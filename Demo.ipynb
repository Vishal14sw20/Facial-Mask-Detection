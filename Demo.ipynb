{
 "nbformat": 4,
 "nbformat_minor": 0,
 "metadata": {
  "kernelspec": {
   "display_name": "PyCharm (MLAA)",
   "language": "python",
   "name": "pycharm-bab2abf6"
  },
  "language_info": {
   "codemirror_mode": {
    "name": "ipython",
    "version": 3
   },
   "file_extension": ".py",
   "mimetype": "text/x-python",
   "name": "python",
   "nbconvert_exporter": "python",
   "pygments_lexer": "ipython3",
   "version": "3.6.9"
  },
  "colab": {
   "name": "Demo.ipynb",
   "provenance": [],
   "collapsed_sections": []
  }
 },
 "cells": [
  {
   "cell_type": "markdown",
   "metadata": {
    "id": "00AgxrHYWgHM",
    "colab_type": "text"
   },
   "source": [
    "**For mounting the google drive with git and pulling changes**"
   ]
  },
  {
   "cell_type": "code",
   "metadata": {
    "id": "Gw3AAGltWO_l",
    "colab_type": "code",
    "colab": {
     "base_uri": "https://localhost:8080/",
     "height": 156
    },
    "executionInfo": {
     "status": "ok",
     "timestamp": 1594939056238,
     "user_tz": -120,
     "elapsed": 5164,
     "user": {
      "displayName": "Vishal Kumar",
      "photoUrl": "https://lh3.googleusercontent.com/a-/AOh14GjAxzpl7WvFfKigXrvsyqdnqLftmEc4-PmGJRBT8g=s64",
      "userId": "15559816405051970023"
     }
    },
    "outputId": "92112e05-2c20-474b-a3be-fb481233b148"
   },
   "source": [
    "from google.colab import drive\n",
    "drive.mount('/content/gdrive')\n",
    "%cd /content/gdrive/My Drive/Face-Mask-Detection\n",
    "import key\n",
    "%cd /content/gdrive/My Drive/Face-Mask-Detection/Facial-Mask-Detection\n",
    "\n",
    "! git pull\n",
    "! git config --global user.email key.useremail      #change your user email and username \n",
    "! git config --global user.name key.username"
   ],
   "execution_count": 6,
   "outputs": [
    {
     "output_type": "stream",
     "text": [
      "Drive already mounted at /content/gdrive; to attempt to forcibly remount, call drive.mount(\"/content/gdrive\", force_remount=True).\n",
      "/content/gdrive/My Drive/Face-Mask-Detection\n",
      "/content/gdrive/My Drive/Face-Mask-Detection/Facial-Mask-Detection\n",
      "Updating f4f8dd1..9bc57df\n",
      "error: Your local changes to the following files would be overwritten by merge:\n",
      "\tDemo.ipynb\n",
      "Please commit your changes or stash them before you merge.\n",
      "Aborting\n"
     ],
     "name": "stdout"
    }
   ]
  },
  {
   "cell_type": "markdown",
   "metadata": {
    "id": "a66nbFl8WpsL",
    "colab_type": "text",
    "pycharm": {
     "name": "#%% md\n"
    }
   },
   "source": []
  },
  {
   "cell_type": "code",
   "metadata": {
    "pycharm": {
     "name": "#%%\n"
    },
    "id": "STx42q6UNOYY",
    "colab_type": "code",
    "colab": {
     "base_uri": "https://localhost:8080/",
     "height": 68
    },
    "executionInfo": {
     "status": "ok",
     "timestamp": 1594303516200,
     "user_tz": -120,
     "elapsed": 171449,
     "user": {
      "displayName": "Vishal Kumar",
      "photoUrl": "https://lh3.googleusercontent.com/a-/AOh14GjAxzpl7WvFfKigXrvsyqdnqLftmEc4-PmGJRBT8g=s64",
      "userId": "15559816405051970023"
     }
    },
    "outputId": "5c1e89b7-3f64-40a9-ce14-ff263fd221c6"
   },
   "source": [
    "from Files import Architecture\n",
    "from Files import Data_Loading\n",
    "from Files import Model\n",
    "from Files import Test\n",
    "from Files import Train\n"
   ],
   "execution_count": null,
   "outputs": [
    {
     "output_type": "stream",
     "text": [
      "WARNING:tensorflow:`input_shape` is undefined or non-square, or `rows` is not in [96, 128, 160, 192, 224]. Weights for input shape (224, 224) will be loaded as the default.\n",
      "Downloading data from https://storage.googleapis.com/tensorflow/keras-applications/mobilenet_v2/mobilenet_v2_weights_tf_dim_ordering_tf_kernels_1.0_224_no_top.h5\n",
      "9412608/9406464 [==============================] - 0s 0us/step\n"
     ],
     "name": "stdout"
    }
   ]
  },
  {
   "cell_type": "code",
   "metadata": {
    "pycharm": {
     "name": "#%%\n"
    },
    "id": "G0RXpWVsNOYi",
    "colab_type": "code",
    "colab": {}
   },
   "source": [
    "# path for input images\n",
    "images_path = 'dataset'\n",
    "\n",
    "# hyper parameters\n",
    "hyper_params = {\"lr\": 1e-4,\"batch_size\": 32,\"epochs\": 3}"
   ],
   "execution_count": null,
   "outputs": []
  },
  {
   "cell_type": "code",
   "metadata": {
    "pycharm": {
     "name": "#%%\n"
    },
    "id": "qdPVd2ckNOYo",
    "colab_type": "code",
    "colab": {
     "base_uri": "https://localhost:8080/",
     "height": 51
    },
    "executionInfo": {
     "status": "ok",
     "timestamp": 1594303726286,
     "user_tz": -120,
     "elapsed": 116946,
     "user": {
      "displayName": "Vishal Kumar",
      "photoUrl": "https://lh3.googleusercontent.com/a-/AOh14GjAxzpl7WvFfKigXrvsyqdnqLftmEc4-PmGJRBT8g=s64",
      "userId": "15559816405051970023"
     }
    },
    "outputId": "934cef4b-0a9f-49e1-db65-81a4b7fd3071"
   },
   "source": [
    "# Load images\n",
    "trainX, testX, trainY, testY =Data_Loading.load_images_and_labels(images_path)"
   ],
   "execution_count": null,
   "outputs": [
    {
     "output_type": "stream",
     "text": [
      "[INFO] Loading Images......\n",
      "Loaded\n"
     ],
     "name": "stdout"
    }
   ]
  },
  {
   "cell_type": "code",
   "metadata": {
    "pycharm": {
     "name": "#%%\n"
    },
    "id": "3Yi94v4CNOYu",
    "colab_type": "code",
    "colab": {
     "base_uri": "https://localhost:8080/",
     "height": 34
    },
    "executionInfo": {
     "status": "ok",
     "timestamp": 1594303782398,
     "user_tz": -120,
     "elapsed": 2878,
     "user": {
      "displayName": "Vishal Kumar",
      "photoUrl": "https://lh3.googleusercontent.com/a-/AOh14GjAxzpl7WvFfKigXrvsyqdnqLftmEc4-PmGJRBT8g=s64",
      "userId": "15559816405051970023"
     }
    },
    "outputId": "e9c0ad0d-a9a0-4d0e-8993-511c0287453c"
   },
   "source": [
    "# build architecture\n",
    "model = Architecture.fine_tune_architecture()"
   ],
   "execution_count": null,
   "outputs": [
    {
     "output_type": "stream",
     "text": [
      "WARNING:tensorflow:`input_shape` is undefined or non-square, or `rows` is not in [96, 128, 160, 192, 224]. Weights for input shape (224, 224) will be loaded as the default.\n"
     ],
     "name": "stdout"
    }
   ]
  },
  {
   "cell_type": "code",
   "metadata": {
    "pycharm": {
     "name": "#%%\n"
    },
    "id": "mHxN52-JNOY0",
    "colab_type": "code",
    "colab": {
     "base_uri": "https://localhost:8080/",
     "height": 153
    },
    "executionInfo": {
     "status": "ok",
     "timestamp": 1594303960499,
     "user_tz": -120,
     "elapsed": 168036,
     "user": {
      "displayName": "Vishal Kumar",
      "photoUrl": "https://lh3.googleusercontent.com/a-/AOh14GjAxzpl7WvFfKigXrvsyqdnqLftmEc4-PmGJRBT8g=s64",
      "userId": "15559816405051970023"
     }
    },
    "outputId": "f65b9976-7b15-4e5c-ee1b-e518555814ee"
   },
   "source": [
    "#train model\n",
    "model = Train.training(model,trainX, testX, trainY, testY, hyper_params)"
   ],
   "execution_count": null,
   "outputs": [
    {
     "output_type": "stream",
     "text": [
      "[INFO] compiling model...\n",
      "[INFO] training head...\n",
      "Epoch 1/3\n",
      "34/34 [==============================] - 53s 2s/step - loss: 0.9176 - accuracy: 0.5543 - val_loss: 0.7264 - val_accuracy: 0.5471\n",
      "Epoch 2/3\n",
      "34/34 [==============================] - 53s 2s/step - loss: 0.9020 - accuracy: 0.5318 - val_loss: 0.7123 - val_accuracy: 0.5580\n",
      "Epoch 3/3\n",
      "34/34 [==============================] - 53s 2s/step - loss: 0.8722 - accuracy: 0.5655 - val_loss: 0.7048 - val_accuracy: 0.5652\n"
     ],
     "name": "stdout"
    }
   ]
  },
  {
   "cell_type": "code",
   "metadata": {
    "pycharm": {
     "name": "#%%\n"
    },
    "id": "Jv7VIlKmNOY4",
    "colab_type": "code",
    "colab": {},
    "outputId": "9378f8ee-b581-4c09-b11b-1c8b300c81f9"
   },
   "source": [
    "# save model\n",
    "Model.save_model(model)"
   ],
   "execution_count": null,
   "outputs": [
    {
     "output_type": "stream",
     "text": [
      "[INFO] saving mask detector model...\n"
     ],
     "name": "stdout"
    },
    {
     "output_type": "error",
     "ename": "TypeError",
     "evalue": "save_model() missing 1 required positional argument: 'filepath'",
     "traceback": [
      "\u001B[0;31m---------------------------------------------------------------------------\u001B[0m",
      "\u001B[0;31mTypeError\u001B[0m                                 Traceback (most recent call last)",
      "\u001B[0;32m<ipython-input-6-aa85760c5548>\u001B[0m in \u001B[0;36m<module>\u001B[0;34m\u001B[0m\n\u001B[1;32m      1\u001B[0m \u001B[0;31m# save model\u001B[0m\u001B[0;34m\u001B[0m\u001B[0;34m\u001B[0m\u001B[0;34m\u001B[0m\u001B[0m\n\u001B[0;32m----> 2\u001B[0;31m \u001B[0mModel\u001B[0m\u001B[0;34m.\u001B[0m\u001B[0msave_model\u001B[0m\u001B[0;34m(\u001B[0m\u001B[0mmodel\u001B[0m\u001B[0;34m)\u001B[0m\u001B[0;34m\u001B[0m\u001B[0;34m\u001B[0m\u001B[0m\n\u001B[0m",
      "\u001B[0;32m~/MyProject/Facial-Mask-Detection/Files/Model.py\u001B[0m in \u001B[0;36msave_model\u001B[0;34m(model)\u001B[0m\n\u001B[1;32m      6\u001B[0m     \u001B[0;31m# serialize the model to disk\u001B[0m\u001B[0;34m\u001B[0m\u001B[0;34m\u001B[0m\u001B[0;34m\u001B[0m\u001B[0m\n\u001B[1;32m      7\u001B[0m     \u001B[0mprint\u001B[0m\u001B[0;34m(\u001B[0m\u001B[0;34m\"[INFO] saving mask detector model...\"\u001B[0m\u001B[0;34m)\u001B[0m\u001B[0;34m\u001B[0m\u001B[0;34m\u001B[0m\u001B[0m\n\u001B[0;32m----> 8\u001B[0;31m     \u001B[0mtf\u001B[0m\u001B[0;34m.\u001B[0m\u001B[0mkeras\u001B[0m\u001B[0;34m.\u001B[0m\u001B[0mmodels\u001B[0m\u001B[0;34m.\u001B[0m\u001B[0msave_model\u001B[0m\u001B[0;34m(\u001B[0m\u001B[0mmodel\u001B[0m\u001B[0;34m,\u001B[0m \u001B[0msave_format\u001B[0m\u001B[0;34m=\u001B[0m\u001B[0;34m\"h5\"\u001B[0m\u001B[0;34m)\u001B[0m\u001B[0;34m\u001B[0m\u001B[0;34m\u001B[0m\u001B[0m\n\u001B[0m\u001B[1;32m      9\u001B[0m \u001B[0;34m\u001B[0m\u001B[0m\n\u001B[1;32m     10\u001B[0m \u001B[0;34m\u001B[0m\u001B[0m\n",
      "\u001B[0;31mTypeError\u001B[0m: save_model() missing 1 required positional argument: 'filepath'"
     ]
    }
   ]
  },
  {
   "cell_type": "code",
   "metadata": {
    "pycharm": {
     "name": "#%%\n"
    },
    "id": "aE7ggwGPNOY7",
    "colab_type": "code",
    "colab": {}
   },
   "source": [
    "# test accuracy\n",
    "\n",
    "Test.evalute_report(model,testX,testY,hyper_params)\n"
   ],
   "execution_count": null,
   "outputs": []
  }
 ]
}